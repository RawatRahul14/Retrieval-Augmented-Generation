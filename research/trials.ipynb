{
 "cells": [
  {
   "cell_type": "code",
   "execution_count": 1,
   "id": "61ca1f71",
   "metadata": {},
   "outputs": [],
   "source": [
    "import os\n",
    "os.chdir(\"../\")"
   ]
  },
  {
   "cell_type": "markdown",
   "id": "f04e615e",
   "metadata": {},
   "source": [
    "### Model"
   ]
  },
  {
   "cell_type": "code",
   "execution_count": 2,
   "id": "1e66aaae",
   "metadata": {},
   "outputs": [],
   "source": [
    "from rag_pipeline.components.models import ModelConfig"
   ]
  },
  {
   "cell_type": "code",
   "execution_count": 3,
   "id": "8548edc2",
   "metadata": {},
   "outputs": [],
   "source": [
    "model = ModelConfig()"
   ]
  },
  {
   "cell_type": "code",
   "execution_count": 4,
   "id": "9480a905",
   "metadata": {},
   "outputs": [
    {
     "data": {
      "text/plain": [
       "'gpt-4o-mini'"
      ]
     },
     "execution_count": 4,
     "metadata": {},
     "output_type": "execute_result"
    }
   ],
   "source": [
    "model.get_agent_model(\n",
    "    agent_name = \"question_rewriter\"\n",
    ").get(\"name\")"
   ]
  },
  {
   "cell_type": "markdown",
   "id": "b42374ca",
   "metadata": {},
   "source": [
    "### Prompts"
   ]
  },
  {
   "cell_type": "code",
   "execution_count": 5,
   "id": "5658dcb2",
   "metadata": {},
   "outputs": [],
   "source": [
    "from rag_pipeline.components.prompts import render_prompt"
   ]
  },
  {
   "cell_type": "code",
   "execution_count": 7,
   "id": "b3d41201",
   "metadata": {},
   "outputs": [
    {
     "data": {
      "text/plain": [
       "{'system': 'ROLE\\n- You are a question rewriter for a Retrieval-Augmented Generation system.\\n\\nINPUTS\\n- \"current_question\": The user\\'s most recent query.\\n- \"conversation\": A short history of recent interactions (if available).\\n\\nTASK\\n- Rephrase the query into a clear, standalone form that captures the full intent of the user\\'s question.\\n\\nRULES\\n- Use conversation only to clarify vague references like \"this file\" or \"the previous report\".\\n- Keep the question concise and factual (under 40 tokens).\\n- Do not guess missing details; preserve ambiguity if uncertain.\\n- Avoid multi-sentence questions.',\n",
       " 'user': 'USER QUERY: What is RAG?\\nCHAT HISTORY: User: What is AI?\\nAgent: AI stands for Artificial Intelligence',\n",
       " 'output_schema': '{\\n  \"rephrased_question\": \"string\"\\n}\\n'}"
      ]
     },
     "execution_count": 7,
     "metadata": {},
     "output_type": "execute_result"
    }
   ],
   "source": [
    "render_prompt(\n",
    "    prompt_name = \"question_rewriter\",\n",
    "    current_question = \"What is RAG?\",\n",
    "    conversation = \"User: What is AI?\\nAgent: AI stands for Artificial Intelligence\"\n",
    ")"
   ]
  },
  {
   "cell_type": "markdown",
   "id": "e444914e",
   "metadata": {},
   "source": [
    "### Graph"
   ]
  },
  {
   "cell_type": "code",
   "execution_count": 2,
   "id": "c2e07da7",
   "metadata": {},
   "outputs": [],
   "source": [
    "from graph import run_graph"
   ]
  },
  {
   "cell_type": "code",
   "execution_count": 3,
   "id": "4a297178",
   "metadata": {},
   "outputs": [],
   "source": [
    "graph = run_graph()"
   ]
  },
  {
   "cell_type": "code",
   "execution_count": 4,
   "id": "39e298ca",
   "metadata": {},
   "outputs": [],
   "source": [
    "user_input = \"What is RAG?\"\n",
    "input_data = {\n",
    "    \"question\": user_input\n",
    "}"
   ]
  },
  {
   "cell_type": "code",
   "execution_count": 5,
   "id": "cb171695",
   "metadata": {},
   "outputs": [
    {
     "data": {
      "text/plain": [
       "{'question': 'What is RAG?',\n",
       " 'rephrased_question': 'What does RAG stand for and what does it mean?'}"
      ]
     },
     "execution_count": 5,
     "metadata": {},
     "output_type": "execute_result"
    }
   ],
   "source": [
    "await graph.ainvoke(\n",
    "    input = input_data,\n",
    "    config = {\n",
    "        \"configurable\": {\n",
    "            \"retriever\": None\n",
    "        }\n",
    "    }\n",
    ")"
   ]
  },
  {
   "cell_type": "code",
   "execution_count": null,
   "id": "0b3d27ee",
   "metadata": {},
   "outputs": [],
   "source": []
  }
 ],
 "metadata": {
  "kernelspec": {
   "display_name": ".venv",
   "language": "python",
   "name": "python3"
  },
  "language_info": {
   "codemirror_mode": {
    "name": "ipython",
    "version": 3
   },
   "file_extension": ".py",
   "mimetype": "text/x-python",
   "name": "python",
   "nbconvert_exporter": "python",
   "pygments_lexer": "ipython3",
   "version": "3.11.8"
  }
 },
 "nbformat": 4,
 "nbformat_minor": 5
}
