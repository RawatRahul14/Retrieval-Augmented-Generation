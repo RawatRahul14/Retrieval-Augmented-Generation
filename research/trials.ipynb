{
 "cells": [
  {
   "cell_type": "code",
   "execution_count": 1,
   "id": "61ca1f71",
   "metadata": {},
   "outputs": [],
   "source": [
    "import os\n",
    "os.chdir(\"../\")"
   ]
  },
  {
   "cell_type": "markdown",
   "id": "f04e615e",
   "metadata": {},
   "source": [
    "### Model"
   ]
  },
  {
   "cell_type": "code",
   "execution_count": 2,
   "id": "1e66aaae",
   "metadata": {},
   "outputs": [],
   "source": [
    "from rag_pipeline.components.models import ModelConfig"
   ]
  },
  {
   "cell_type": "code",
   "execution_count": 3,
   "id": "8548edc2",
   "metadata": {},
   "outputs": [],
   "source": [
    "model = ModelConfig()"
   ]
  },
  {
   "cell_type": "code",
   "execution_count": 4,
   "id": "9480a905",
   "metadata": {},
   "outputs": [
    {
     "data": {
      "text/plain": [
       "'gpt-4o-mini'"
      ]
     },
     "execution_count": 4,
     "metadata": {},
     "output_type": "execute_result"
    }
   ],
   "source": [
    "model.get_agent_model(\n",
    "    agent_name = \"question_rewriter\"\n",
    ").get(\"name\")"
   ]
  },
  {
   "cell_type": "markdown",
   "id": "b42374ca",
   "metadata": {},
   "source": [
    "### Prompts"
   ]
  },
  {
   "cell_type": "code",
   "execution_count": 5,
   "id": "5658dcb2",
   "metadata": {},
   "outputs": [],
   "source": [
    "from rag_pipeline.components.prompts import render_prompt"
   ]
  },
  {
   "cell_type": "code",
   "execution_count": 7,
   "id": "b3d41201",
   "metadata": {},
   "outputs": [
    {
     "data": {
      "text/plain": [
       "{'system': 'ROLE\\n- You are a question rewriter for a Retrieval-Augmented Generation system.\\n\\nINPUTS\\n- \"current_question\": The user\\'s most recent query.\\n- \"conversation\": A short history of recent interactions (if available).\\n\\nTASK\\n- Rephrase the query into a clear, standalone form that captures the full intent of the user\\'s question.\\n\\nRULES\\n- Use conversation only to clarify vague references like \"this file\" or \"the previous report\".\\n- Keep the question concise and factual (under 40 tokens).\\n- Do not guess missing details; preserve ambiguity if uncertain.\\n- Avoid multi-sentence questions.',\n",
       " 'user': 'USER QUERY: What is RAG?\\nCHAT HISTORY: User: What is AI?\\nAgent: AI stands for Artificial Intelligence',\n",
       " 'output_schema': '{\\n  \"rephrased_question\": \"string\"\\n}\\n'}"
      ]
     },
     "execution_count": 7,
     "metadata": {},
     "output_type": "execute_result"
    }
   ],
   "source": [
    "render_prompt(\n",
    "    prompt_name = \"question_rewriter\",\n",
    "    current_question = \"What is RAG?\",\n",
    "    conversation = \"User: What is AI?\\nAgent: AI stands for Artificial Intelligence\"\n",
    ")"
   ]
  },
  {
   "cell_type": "markdown",
   "id": "e444914e",
   "metadata": {},
   "source": [
    "### Graph"
   ]
  },
  {
   "cell_type": "code",
   "execution_count": 2,
   "id": "c2e07da7",
   "metadata": {},
   "outputs": [],
   "source": [
    "from graph import run_graph"
   ]
  },
  {
   "cell_type": "code",
   "execution_count": 3,
   "id": "4a297178",
   "metadata": {},
   "outputs": [],
   "source": [
    "graph = run_graph()"
   ]
  },
  {
   "cell_type": "code",
   "execution_count": 4,
   "id": "39e298ca",
   "metadata": {},
   "outputs": [],
   "source": [
    "user_input = \"What is RAG?\"\n",
    "input_data = {\n",
    "    \"question\": user_input\n",
    "}"
   ]
  },
  {
   "cell_type": "code",
   "execution_count": 5,
   "id": "cb171695",
   "metadata": {},
   "outputs": [
    {
     "data": {
      "text/plain": [
       "{'question': 'What is RAG?',\n",
       " 'rephrased_question': 'What does RAG stand for and what does it mean?'}"
      ]
     },
     "execution_count": 5,
     "metadata": {},
     "output_type": "execute_result"
    }
   ],
   "source": [
    "await graph.ainvoke(\n",
    "    input = input_data,\n",
    "    config = {\n",
    "        \"configurable\": {\n",
    "            \"retriever\": None\n",
    "        }\n",
    "    }\n",
    ")"
   ]
  },
  {
   "cell_type": "markdown",
   "id": "79a7157d",
   "metadata": {},
   "source": [
    "### Data Extract"
   ]
  },
  {
   "cell_type": "code",
   "execution_count": 2,
   "id": "0b3d27ee",
   "metadata": {},
   "outputs": [],
   "source": [
    "from rag_pipeline.utils.extract_doc import extract_from_pdf, extract_from_text_files"
   ]
  },
  {
   "cell_type": "code",
   "execution_count": 3,
   "id": "19ce5241",
   "metadata": {},
   "outputs": [
    {
     "name": "stdout",
     "output_type": "stream",
     "text": [
      "📄 Reading Assignment.pdf ...\n",
      "📄 Reading Networking Activity.pdf ...\n",
      "✅ Extracted 4 pages and 0 tables from PDFs.\n",
      "📄 RAG.txt: 2 chunks\n",
      "✅ Extracted 2 text chunks from 'data'.\n"
     ]
    }
   ],
   "source": [
    "pdf_texts, pfd_tables, pdf_metadata = extract_from_pdf()\n",
    "txt_texts, txt_metadata = extract_from_text_files()"
   ]
  },
  {
   "cell_type": "code",
   "execution_count": 4,
   "id": "d41dd625",
   "metadata": {},
   "outputs": [
    {
     "data": {
      "text/plain": [
       "[{'content': 'LLM Specialist Assignment\\nOverview\\nCreate a Retrieval-Augmented Generation (RAG) pipeline that allows users to upload documents and\\nask questions based on their content. The system should leverage vector databases for efficient retrieval\\nand an LLM API (e.g., OpenAI, Gemini, or another REST-based model) for generating responses. The entire\\napplication should be containerized using Docker and deployable on cloud or local environments.\\nRequirements:\\n1. Document Ingestion & Processing:\\no Support uploading up to 20 documents, each with a maximum of 1000 pages.\\no Chunk documents into manageable sizes for efficient retrieval.\\no Use text embeddings to store document chunks in a vector database (e.g., FAISS, Pinecone,\\nWeaviate, or ChromaDB).\\n2. Retrieval-Augmented Generation (RAG) Pipeline:\\no Accept user queries and retrieve relevant document chunks.\\no Pass the retrieved chunks to the LLM API for contextual response generation.\\no Ensure responses are accurate, concise, and relevant to the uploaded documents.\\n3. API & APPLICATION ARCHITECTURE:\\na. Implement a REST API using FastAPI, Flask, or Express.js.\\nb. Expose endpoints for:\\ni. Uploading documents\\nii. Querying the system\\niii. Viewing processed document metadata\\nc. Store document metadata in a relational or NoSQL database.\\n4. DEPLOYMENT & CONTAINERIZATION:\\na. Provide a Docker Compose setup with all necessary services.\\nb. Ensure seamless deployment on local machines and cloud environments (e.g., AWS,\\nGCP, Azure).',\n",
       "  'metadata': {'source': 'Assignment.pdf', 'type': 'pdf', 'page_number': 1}},\n",
       " {'content': '5. TESTING & DOCUMENTATION:\\na. Write unit and integration tests for document retrieval and query handling.\\nb. Provide a clear README.md with:\\ni. Setup and installation instructions.\\nii. API usage and testing guidelines.\\niii. Configuration details for using different LLM providers.\\nDELIVERABLES\\n• GitHub repository with the complete source code.\\n• Docker setup for local and cloud deployment.\\n• Well-documented README.md with setup and API usage instructions.\\n• Automated tests for validation.\\n• Postman collection (optional) for testing API endpoints.\\nEVALUATION CRITERIA:\\n• Efficiency of document retrieval and response generation.\\n• Scalability and performance of the RAG pipeline.\\n• Code quality, modularity, and adherence to best practices.\\n• Ease of setup and deployment using Docker.\\n• Thoroughness of documentation and test coverage.\\nSUBMISSION:\\nSubmit a GitHub repository link within 2 days including all deliverables.\\nYou are encouraged to submit a working demo via a publicly accessible URL. While preferred, this is not\\nmandatory.',\n",
       "  'metadata': {'source': 'Assignment.pdf', 'type': 'pdf', 'page_number': 2}},\n",
       " {'content': 'Networking Activity\\nIndividual Submission\\nObjective\\nThis activity encourages WIL employees to apply the networking strategies discussed in the\\nprofessional development session in week seven (Networking for Career Success). The goal is to\\nreflect on their experiences at a networking event and demonstrate how they will build long-\\nterm connections beyond the WIL project.\\nInstructions\\nPart One: Attend a Networking Event\\nWIL employees must select and attend a networking event related to your field of interest. This\\neven can be in-person or virtual.\\n• *Evidence of Attendance: WIL employees must provide proof of ticket purchase or\\nregistration. In addition to the proof of ticket purchase or registration you must take a\\nscreenshot of yourself attending if the event was online, or a picture of you at the event\\nif it was in person.\\nPart Two: Reflection\\nAfter attending the event, you are expected to submit a one-page reflection. This reflection is\\nnot just about sending a follow-up message but about crafting a thoughtful, long-term\\nnetworking plan. Take this opportunity to reflect on how you can leverage the relationships you\\nbuild during WIL to further your career goals.\\nThe reflection should be formatted as follows:\\nNetworking Activity | 1\\n*If the images provided are not clear, it will result in an automatic failure with no exceptions.',\n",
       "  'metadata': {'source': 'Networking Activity.pdf',\n",
       "   'type': 'pdf',\n",
       "   'page_number': 1}},\n",
       " {'content': '• Introduction: Briefly describe the event, including its purpose and the key professionals\\nor organizations you interacted with.\\n• Networking Strategies Applied: Discuss how you utilized the networking strategies from\\nthe professional development session. Mention specific actions, such as conversation\\nstarters, active listening, or personalized follow-ups.\\n• Relationship Building Beyond WIL: Reflect on how you plan to maintain and grow these\\nnew connections beyond the WIL program. Provide examples (e.g., LinkedIn\\nengagement, scheduling follow-up meetings, attending future events).\\n• Successes & Challenges: Highlight what worked well during the event and identify areas\\nfor improvement and what you would do differently next time (e.g., preparing better\\nquestions or being more proactive).\\nFormatting & Submission Guidelines\\n• Length: 1 page (2 max if needed), double-spaced. No cover page or reference needed –\\nthis is a reflection.\\n• File Format: PDF or Word document.\\n• *Proof of Attendance: Attach the screenshot/picture of yourself attending and\\nticket/registration proof.\\nNetworking Activity | 2\\n*If the images provided are not clear, it will result in an automatic failure with no exceptions.',\n",
       "  'metadata': {'source': 'Networking Activity.pdf',\n",
       "   'type': 'pdf',\n",
       "   'page_number': 2}}]"
      ]
     },
     "execution_count": 4,
     "metadata": {},
     "output_type": "execute_result"
    }
   ],
   "source": [
    "pdf_texts"
   ]
  },
  {
   "cell_type": "code",
   "execution_count": 6,
   "id": "dc5b6084",
   "metadata": {},
   "outputs": [
    {
     "data": {
      "text/plain": [
       "[{'file_name': 'Assignment.pdf',\n",
       "  'file_path': 'C:\\\\Users\\\\rahul\\\\Desktop\\\\Coding Assignment\\\\Retrieval-Augmented-Generation\\\\data\\\\Assignment.pdf',\n",
       "  'type': 'pdf',\n",
       "  'size_kb': 84.35,\n",
       "  'total_pages': 2,\n",
       "  'total_tables': 0},\n",
       " {'file_name': 'Networking Activity.pdf',\n",
       "  'file_path': 'C:\\\\Users\\\\rahul\\\\Desktop\\\\Coding Assignment\\\\Retrieval-Augmented-Generation\\\\data\\\\Networking Activity.pdf',\n",
       "  'type': 'pdf',\n",
       "  'size_kb': 215.3,\n",
       "  'total_pages': 2,\n",
       "  'total_tables': 0}]"
      ]
     },
     "execution_count": 6,
     "metadata": {},
     "output_type": "execute_result"
    }
   ],
   "source": [
    "pdf_metadata"
   ]
  },
  {
   "cell_type": "code",
   "execution_count": 7,
   "id": "943aec27",
   "metadata": {},
   "outputs": [
    {
     "data": {
      "text/plain": [
       "[{'file_name': 'RAG.txt',\n",
       "  'file_path': 'C:\\\\Users\\\\rahul\\\\Desktop\\\\Coding Assignment\\\\Retrieval-Augmented-Generation\\\\data\\\\RAG.txt',\n",
       "  'type': 'text',\n",
       "  'size_kb': 0.66,\n",
       "  'total_chunks': 2}]"
      ]
     },
     "execution_count": 7,
     "metadata": {},
     "output_type": "execute_result"
    }
   ],
   "source": [
    "txt_metadata"
   ]
  },
  {
   "cell_type": "code",
   "execution_count": 6,
   "id": "685a1d41",
   "metadata": {},
   "outputs": [],
   "source": [
    "pdf_texts.extend(txt_texts)"
   ]
  },
  {
   "cell_type": "code",
   "execution_count": 7,
   "id": "94564f91",
   "metadata": {},
   "outputs": [
    {
     "data": {
      "text/plain": [
       "[{'content': 'LLM Specialist Assignment\\nOverview\\nCreate a Retrieval-Augmented Generation (RAG) pipeline that allows users to upload documents and\\nask questions based on their content. The system should leverage vector databases for efficient retrieval\\nand an LLM API (e.g., OpenAI, Gemini, or another REST-based model) for generating responses. The entire\\napplication should be containerized using Docker and deployable on cloud or local environments.\\nRequirements:\\n1. Document Ingestion & Processing:\\no Support uploading up to 20 documents, each with a maximum of 1000 pages.\\no Chunk documents into manageable sizes for efficient retrieval.\\no Use text embeddings to store document chunks in a vector database (e.g., FAISS, Pinecone,\\nWeaviate, or ChromaDB).\\n2. Retrieval-Augmented Generation (RAG) Pipeline:\\no Accept user queries and retrieve relevant document chunks.\\no Pass the retrieved chunks to the LLM API for contextual response generation.\\no Ensure responses are accurate, concise, and relevant to the uploaded documents.\\n3. API & APPLICATION ARCHITECTURE:\\na. Implement a REST API using FastAPI, Flask, or Express.js.\\nb. Expose endpoints for:\\ni. Uploading documents\\nii. Querying the system\\niii. Viewing processed document metadata\\nc. Store document metadata in a relational or NoSQL database.\\n4. DEPLOYMENT & CONTAINERIZATION:\\na. Provide a Docker Compose setup with all necessary services.\\nb. Ensure seamless deployment on local machines and cloud environments (e.g., AWS,\\nGCP, Azure).',\n",
       "  'metadata': {'source': 'Assignment.pdf', 'type': 'pdf', 'page_number': 1}},\n",
       " {'content': '5. TESTING & DOCUMENTATION:\\na. Write unit and integration tests for document retrieval and query handling.\\nb. Provide a clear README.md with:\\ni. Setup and installation instructions.\\nii. API usage and testing guidelines.\\niii. Configuration details for using different LLM providers.\\nDELIVERABLES\\n• GitHub repository with the complete source code.\\n• Docker setup for local and cloud deployment.\\n• Well-documented README.md with setup and API usage instructions.\\n• Automated tests for validation.\\n• Postman collection (optional) for testing API endpoints.\\nEVALUATION CRITERIA:\\n• Efficiency of document retrieval and response generation.\\n• Scalability and performance of the RAG pipeline.\\n• Code quality, modularity, and adherence to best practices.\\n• Ease of setup and deployment using Docker.\\n• Thoroughness of documentation and test coverage.\\nSUBMISSION:\\nSubmit a GitHub repository link within 2 days including all deliverables.\\nYou are encouraged to submit a working demo via a publicly accessible URL. While preferred, this is not\\nmandatory.',\n",
       "  'metadata': {'source': 'Assignment.pdf', 'type': 'pdf', 'page_number': 2}},\n",
       " {'content': 'Networking Activity\\nIndividual Submission\\nObjective\\nThis activity encourages WIL employees to apply the networking strategies discussed in the\\nprofessional development session in week seven (Networking for Career Success). The goal is to\\nreflect on their experiences at a networking event and demonstrate how they will build long-\\nterm connections beyond the WIL project.\\nInstructions\\nPart One: Attend a Networking Event\\nWIL employees must select and attend a networking event related to your field of interest. This\\neven can be in-person or virtual.\\n• *Evidence of Attendance: WIL employees must provide proof of ticket purchase or\\nregistration. In addition to the proof of ticket purchase or registration you must take a\\nscreenshot of yourself attending if the event was online, or a picture of you at the event\\nif it was in person.\\nPart Two: Reflection\\nAfter attending the event, you are expected to submit a one-page reflection. This reflection is\\nnot just about sending a follow-up message but about crafting a thoughtful, long-term\\nnetworking plan. Take this opportunity to reflect on how you can leverage the relationships you\\nbuild during WIL to further your career goals.\\nThe reflection should be formatted as follows:\\nNetworking Activity | 1\\n*If the images provided are not clear, it will result in an automatic failure with no exceptions.',\n",
       "  'metadata': {'source': 'Networking Activity.pdf',\n",
       "   'type': 'pdf',\n",
       "   'page_number': 1}},\n",
       " {'content': '• Introduction: Briefly describe the event, including its purpose and the key professionals\\nor organizations you interacted with.\\n• Networking Strategies Applied: Discuss how you utilized the networking strategies from\\nthe professional development session. Mention specific actions, such as conversation\\nstarters, active listening, or personalized follow-ups.\\n• Relationship Building Beyond WIL: Reflect on how you plan to maintain and grow these\\nnew connections beyond the WIL program. Provide examples (e.g., LinkedIn\\nengagement, scheduling follow-up meetings, attending future events).\\n• Successes & Challenges: Highlight what worked well during the event and identify areas\\nfor improvement and what you would do differently next time (e.g., preparing better\\nquestions or being more proactive).\\nFormatting & Submission Guidelines\\n• Length: 1 page (2 max if needed), double-spaced. No cover page or reference needed –\\nthis is a reflection.\\n• File Format: PDF or Word document.\\n• *Proof of Attendance: Attach the screenshot/picture of yourself attending and\\nticket/registration proof.\\nNetworking Activity | 2\\n*If the images provided are not clear, it will result in an automatic failure with no exceptions.',\n",
       "  'metadata': {'source': 'Networking Activity.pdf',\n",
       "   'type': 'pdf',\n",
       "   'page_number': 2}},\n",
       " {'content': 'Retrieval-Augmented Generation (RAG) combines retrieval and generation to improve the factual accuracy of language models. It works by fetching relevant information from external sources such as documents or databases, then using that information to generate more accurate and context-aware responses.',\n",
       "  'metadata': {'source': 'RAG.txt', 'type': 'text', 'chunk_id': 1}},\n",
       " {'content': 'A typical RAG system includes three main components:\\n1. A retriever that searches and fetches relevant chunks.\\n2. A generator (usually an LLM) that uses the retrieved data to answer questions.\\n3. A vector database like FAISS that stores embeddings for quick semantic search. This approach reduces hallucinations and enhances the reliability of LLM-based systems.',\n",
       "  'metadata': {'source': 'RAG.txt', 'type': 'text', 'chunk_id': 2}}]"
      ]
     },
     "execution_count": 7,
     "metadata": {},
     "output_type": "execute_result"
    }
   ],
   "source": [
    "pdf_texts"
   ]
  },
  {
   "cell_type": "markdown",
   "id": "b2f0b2b1",
   "metadata": {},
   "source": [
    "### Data Extract Pipeline"
   ]
  },
  {
   "cell_type": "code",
   "execution_count": 2,
   "id": "fd4d0c62",
   "metadata": {},
   "outputs": [],
   "source": [
    "from rag_pipeline.pipeline.data_extract import extract_data_pipeline\n",
    "from rag_pipeline.components.upload import upload_file_metadata"
   ]
  },
  {
   "cell_type": "code",
   "execution_count": 3,
   "id": "afbda341",
   "metadata": {},
   "outputs": [
    {
     "name": "stdout",
     "output_type": "stream",
     "text": [
      "📄 Reading Assignment.pdf ...\n",
      "📄 Reading Networking Activity.pdf ...\n",
      "✅ Extracted 4 pages and 0 tables from PDFs.\n",
      "📄 RAG.txt: 2 chunks\n",
      "✅ Extracted 2 text chunks from 'data'.\n",
      "✅ Combined 6 text chunks from 3 files.\n"
     ]
    }
   ],
   "source": [
    "texts, tables, metadata = extract_data_pipeline()"
   ]
  },
  {
   "cell_type": "code",
   "execution_count": 4,
   "id": "a6ab18c6",
   "metadata": {},
   "outputs": [
    {
     "data": {
      "text/plain": [
       "[{'file_name': 'Assignment.pdf',\n",
       "  'file_path': 'C:\\\\Users\\\\rahul\\\\Desktop\\\\Coding Assignment\\\\Retrieval-Augmented-Generation\\\\data\\\\Assignment.pdf',\n",
       "  'type': 'pdf',\n",
       "  'size_kb': 84.35,\n",
       "  'total_pages': 2,\n",
       "  'total_tables': 0},\n",
       " {'file_name': 'Networking Activity.pdf',\n",
       "  'file_path': 'C:\\\\Users\\\\rahul\\\\Desktop\\\\Coding Assignment\\\\Retrieval-Augmented-Generation\\\\data\\\\Networking Activity.pdf',\n",
       "  'type': 'pdf',\n",
       "  'size_kb': 215.3,\n",
       "  'total_pages': 2,\n",
       "  'total_tables': 0},\n",
       " {'file_name': 'RAG.txt',\n",
       "  'file_path': 'C:\\\\Users\\\\rahul\\\\Desktop\\\\Coding Assignment\\\\Retrieval-Augmented-Generation\\\\data\\\\RAG.txt',\n",
       "  'type': 'text',\n",
       "  'size_kb': 0.66,\n",
       "  'total_chunks': 2}]"
      ]
     },
     "execution_count": 4,
     "metadata": {},
     "output_type": "execute_result"
    }
   ],
   "source": [
    "metadata"
   ]
  },
  {
   "cell_type": "code",
   "execution_count": 6,
   "id": "b9e8d327",
   "metadata": {},
   "outputs": [
    {
     "name": "stdout",
     "output_type": "stream",
     "text": [
      "✅ Metadata uploaded successfully for session_id: test_1\n",
      "🔒 MongoDB connection closed.\n"
     ]
    },
    {
     "data": {
      "text/plain": [
       "{'session_id': 'test_1',\n",
       " 'uploaded_files': [{'file_name': 'Assignment.pdf',\n",
       "   'file_path': 'C:\\\\Users\\\\rahul\\\\Desktop\\\\Coding Assignment\\\\Retrieval-Augmented-Generation\\\\data\\\\Assignment.pdf',\n",
       "   'type': 'pdf',\n",
       "   'size_kb': 84.35,\n",
       "   'total_pages': 2,\n",
       "   'total_tables': 0},\n",
       "  {'file_name': 'Networking Activity.pdf',\n",
       "   'file_path': 'C:\\\\Users\\\\rahul\\\\Desktop\\\\Coding Assignment\\\\Retrieval-Augmented-Generation\\\\data\\\\Networking Activity.pdf',\n",
       "   'type': 'pdf',\n",
       "   'size_kb': 215.3,\n",
       "   'total_pages': 2,\n",
       "   'total_tables': 0},\n",
       "  {'file_name': 'RAG.txt',\n",
       "   'file_path': 'C:\\\\Users\\\\rahul\\\\Desktop\\\\Coding Assignment\\\\Retrieval-Augmented-Generation\\\\data\\\\RAG.txt',\n",
       "   'type': 'text',\n",
       "   'size_kb': 0.66,\n",
       "   'total_chunks': 2}],\n",
       " 'uploaded_at': datetime.datetime(2025, 10, 7, 8, 4, 43, 594747)}"
      ]
     },
     "execution_count": 6,
     "metadata": {},
     "output_type": "execute_result"
    }
   ],
   "source": [
    "await upload_file_metadata(\n",
    "    session_id = \"test_1\",\n",
    "    file_metadata = metadata\n",
    ")"
   ]
  },
  {
   "cell_type": "markdown",
   "id": "6f9fe031",
   "metadata": {},
   "source": [
    "### retriever"
   ]
  },
  {
   "cell_type": "code",
   "execution_count": 4,
   "id": "33188678",
   "metadata": {},
   "outputs": [],
   "source": [
    "from rag_pipeline.components.retriever import create_retriever"
   ]
  },
  {
   "cell_type": "code",
   "execution_count": 5,
   "id": "741fbec8",
   "metadata": {},
   "outputs": [
    {
     "name": "stdout",
     "output_type": "stream",
     "text": [
      "📚 Preparing 6 documents for indexing...\n",
      "✅ Retriever (FAISS index) created and saved at: ./models/faiss_index\n"
     ]
    }
   ],
   "source": [
    "retriever, path = create_retriever(\n",
    "    texts = texts,\n",
    "    tables = tables,\n",
    "    model_name = \"text-embedding-3-small\",\n",
    "    save_path = \"./models/faiss_index\"\n",
    ")"
   ]
  },
  {
   "cell_type": "code",
   "execution_count": 6,
   "id": "e25df9cc",
   "metadata": {},
   "outputs": [],
   "source": [
    "from graph import run_graph\n",
    "graph = run_graph()"
   ]
  },
  {
   "cell_type": "code",
   "execution_count": 7,
   "id": "3159ea33",
   "metadata": {},
   "outputs": [],
   "source": [
    "user_input = \"What is RAG?\"\n",
    "input_data = {\n",
    "    \"question\": user_input\n",
    "}"
   ]
  },
  {
   "cell_type": "code",
   "execution_count": 8,
   "id": "71e4a597",
   "metadata": {},
   "outputs": [
    {
     "data": {
      "text/plain": [
       "{'question': 'What is RAG?',\n",
       " 'rephrased_question': 'What does RAG stand for and what does it refer to?',\n",
       " 'documents': [Document(id='5112de56-8988-40e2-b1aa-89d4a2b9bbb5', metadata={'source': 'RAG.txt', 'type': 'text', 'chunk_id': 1}, page_content='Retrieval-Augmented Generation (RAG) combines retrieval and generation to improve the factual accuracy of language models. It works by fetching relevant information from external sources such as documents or databases, then using that information to generate more accurate and context-aware responses.'),\n",
       "  Document(id='2de9369f-dc97-4a48-9541-b0998ccc2a73', metadata={'source': 'Assignment.pdf', 'type': 'pdf', 'page_number': 1}, page_content='LLM Specialist Assignment\\nOverview\\nCreate a Retrieval-Augmented Generation (RAG) pipeline that allows users to upload documents and\\nask questions based on their content. The system should leverage vector databases for efficient retrieval\\nand an LLM API (e.g., OpenAI, Gemini, or another REST-based model) for generating responses. The entire\\napplication should be containerized using Docker and deployable on cloud or local environments.\\nRequirements:\\n1. Document Ingestion & Processing:\\no Support uploading up to 20 documents, each with a maximum of 1000 pages.\\no Chunk documents into manageable sizes for efficient retrieval.\\no Use text embeddings to store document chunks in a vector database (e.g., FAISS, Pinecone,\\nWeaviate, or ChromaDB).\\n2. Retrieval-Augmented Generation (RAG) Pipeline:\\no Accept user queries and retrieve relevant document chunks.\\no Pass the retrieved chunks to the LLM API for contextual response generation.\\no Ensure responses are accurate, concise, and relevant to the uploaded documents.\\n3. API & APPLICATION ARCHITECTURE:\\na. Implement a REST API using FastAPI, Flask, or Express.js.\\nb. Expose endpoints for:\\ni. Uploading documents\\nii. Querying the system\\niii. Viewing processed document metadata\\nc. Store document metadata in a relational or NoSQL database.\\n4. DEPLOYMENT & CONTAINERIZATION:\\na. Provide a Docker Compose setup with all necessary services.\\nb. Ensure seamless deployment on local machines and cloud environments (e.g., AWS,\\nGCP, Azure).')],\n",
       " 'proceed_to_generate': True}"
      ]
     },
     "execution_count": 8,
     "metadata": {},
     "output_type": "execute_result"
    }
   ],
   "source": [
    "await graph.ainvoke(\n",
    "    input = input_data,\n",
    "    config = {\n",
    "        \"configurable\": {\n",
    "            \"retriever\": retriever\n",
    "        }\n",
    "    }\n",
    ")"
   ]
  },
  {
   "cell_type": "code",
   "execution_count": null,
   "id": "82076704",
   "metadata": {},
   "outputs": [],
   "source": []
  },
  {
   "cell_type": "markdown",
   "id": "f16ff62a",
   "metadata": {},
   "source": [
    "### Graph"
   ]
  },
  {
   "cell_type": "code",
   "execution_count": 2,
   "id": "4e2a9cd6",
   "metadata": {},
   "outputs": [],
   "source": [
    "from graph import run_graph\n",
    "graph = run_graph()"
   ]
  },
  {
   "cell_type": "code",
   "execution_count": 3,
   "id": "fbe6a465",
   "metadata": {},
   "outputs": [],
   "source": [
    "from IPython.display import display, Image\n",
    "from langchain_core.runnables.graph import MermaidDrawMethod"
   ]
  },
  {
   "cell_type": "code",
   "execution_count": 4,
   "id": "792dd64f",
   "metadata": {},
   "outputs": [
    {
     "data": {
      "image/png": "[encoded data removed]",
      "text/plain": [
       "<IPython.core.display.Image object>"
      ]
     },
     "metadata": {},
     "output_type": "display_data"
    }
   ],
   "source": [
    "display(\n",
    "    Image(\n",
    "        graph.get_graph().draw_mermaid_png(\n",
    "            draw_method = MermaidDrawMethod.API\n",
    "        )\n",
    "    )\n",
    ")"
   ]
  },
  {
   "cell_type": "markdown",
   "id": "acc43cad",
   "metadata": {},
   "source": [
    "### Convo update"
   ]
  },
  {
   "cell_type": "code",
   "execution_count": 5,
   "id": "f6dac548",
   "metadata": {},
   "outputs": [],
   "source": [
    "def update_recent_chats(\n",
    "        recent_chats: dict[int, dict[str, str]],\n",
    "        latest_question: str,\n",
    "        latest_answer: str,\n",
    "        max_chats: int = 3\n",
    ") -> dict[int, dict[str, str]]:\n",
    "    \"\"\"\n",
    "    Updates the conversation history to always contain the last `max_chats` turns.\n",
    "    Automatically shifts and reindexes so keys remain sequential (1..max_chats).\n",
    "    \"\"\"\n",
    "    # Ensure dictionary is valid\n",
    "    if not isinstance(recent_chats, dict):\n",
    "        recent_chats = {}\n",
    "\n",
    "    # Append the new chat at the end\n",
    "    chats = list(recent_chats.values())\n",
    "    chats.append({\n",
    "        \"question\": latest_question.strip(),\n",
    "        \"answer\": latest_answer.strip()\n",
    "    })\n",
    "\n",
    "    # Keep only the last N\n",
    "    chats = chats[-max_chats:]\n",
    "\n",
    "    # Rebuild with proper numeric keys (1..max_chats)\n",
    "    recent_chats = {i + 1: chat for i, chat in enumerate(chats)}\n",
    "\n",
    "    return recent_chats"
   ]
  },
  {
   "cell_type": "code",
   "execution_count": 6,
   "id": "04cd30a9",
   "metadata": {},
   "outputs": [],
   "source": [
    "recent_chats = {\n",
    "    1: {\"question\": \"What is RAG?\", \"answer\": \"It combines retrieval and generation.\"},\n",
    "    2: {\"question\": \"What is FAISS?\", \"answer\": \"A vector database used for similarity search.\"},\n",
    "    3: {\"question\": \"Explain embeddings.\", \"answer\": \"Embeddings represent text as numerical vectors.\"}\n",
    "}"
   ]
  },
  {
   "cell_type": "code",
   "execution_count": 7,
   "id": "883f97c0",
   "metadata": {},
   "outputs": [],
   "source": [
    "# Add a new chat\n",
    "recent_chats = update_recent_chats(\n",
    "    recent_chats,\n",
    "    latest_question = \"How does LangGraph help?\",\n",
    "    latest_answer = \"LangGraph manages multi-agent workflows through state graphs.\"\n",
    ")"
   ]
  },
  {
   "cell_type": "code",
   "execution_count": 8,
   "id": "50934dd2",
   "metadata": {},
   "outputs": [
    {
     "name": "stdout",
     "output_type": "stream",
     "text": [
      "{1: {'question': 'What is FAISS?', 'answer': 'A vector database used for similarity search.'}, 2: {'question': 'Explain embeddings.', 'answer': 'Embeddings represent text as numerical vectors.'}, 3: {'question': 'How does LangGraph help?', 'answer': 'LangGraph manages multi-agent workflows through state graphs.'}}\n"
     ]
    }
   ],
   "source": [
    "print(recent_chats)\n"
   ]
  },
  {
   "cell_type": "code",
   "execution_count": null,
   "id": "935363de",
   "metadata": {},
   "outputs": [],
   "source": []
  },
  {
   "cell_type": "markdown",
   "id": "92b3a7d0",
   "metadata": {},
   "source": [
    "### Final Graph"
   ]
  },
  {
   "cell_type": "code",
   "execution_count": 2,
   "id": "7ae48d4a",
   "metadata": {},
   "outputs": [],
   "source": [
    "from graph import run_graph"
   ]
  },
  {
   "cell_type": "code",
   "execution_count": 3,
   "id": "21e88e96",
   "metadata": {},
   "outputs": [],
   "source": [
    "graph = run_graph()"
   ]
  },
  {
   "cell_type": "code",
   "execution_count": 4,
   "id": "f2b4fc25",
   "metadata": {},
   "outputs": [],
   "source": [
    "from rag_pipeline.pipeline.data_extract import extract_data_pipeline"
   ]
  },
  {
   "cell_type": "code",
   "execution_count": 5,
   "id": "a5b97fd2",
   "metadata": {},
   "outputs": [
    {
     "name": "stdout",
     "output_type": "stream",
     "text": [
      "📄 Reading Assignment.pdf ...\n",
      "📄 Reading Networking Activity.pdf ...\n",
      "✅ Extracted 4 pages and 0 tables from PDFs.\n",
      "📄 RAG.txt: 2 chunks\n",
      "✅ Extracted 2 text chunks from 'data'.\n",
      "✅ Combined 6 text chunks from 3 files.\n"
     ]
    }
   ],
   "source": [
    "texts, tables, metadata = extract_data_pipeline()"
   ]
  },
  {
   "cell_type": "code",
   "execution_count": 6,
   "id": "2359b5be",
   "metadata": {},
   "outputs": [],
   "source": [
    "from rag_pipeline.components.retriever import create_retriever"
   ]
  },
  {
   "cell_type": "code",
   "execution_count": 7,
   "id": "5f7003c6",
   "metadata": {},
   "outputs": [
    {
     "name": "stdout",
     "output_type": "stream",
     "text": [
      "📚 Preparing 6 documents for indexing...\n",
      "✅ Retriever (FAISS index) created and saved at: ./models/faiss_index\n"
     ]
    }
   ],
   "source": [
    "retriever, path = create_retriever(\n",
    "    texts = texts,\n",
    "    tables = tables,\n",
    "    model_name = \"text-embedding-3-small\",\n",
    "    save_path = \"./models/faiss_index\"\n",
    ")"
   ]
  },
  {
   "cell_type": "code",
   "execution_count": 9,
   "id": "c038e527",
   "metadata": {},
   "outputs": [],
   "source": [
    "user_input = \"What is RAG?\"\n",
    "input_data = {\n",
    "    \"question\": user_input\n",
    "}"
   ]
  },
  {
   "cell_type": "code",
   "execution_count": 10,
   "id": "e5be7aae",
   "metadata": {},
   "outputs": [],
   "source": [
    "result = await graph.ainvoke(\n",
    "    input = input_data,\n",
    "    config = {\n",
    "        \"configurable\": {\n",
    "            \"retriever\": retriever,\n",
    "            \"thread_id\": 1\n",
    "        }\n",
    "    }\n",
    ")"
   ]
  },
  {
   "cell_type": "code",
   "execution_count": 11,
   "id": "be1cd599",
   "metadata": {},
   "outputs": [
    {
     "data": {
      "text/plain": [
       "{1: {'question': 'What does RAG stand for or refer to?',\n",
       "  'answer': 'RAG = Retrieval-Augmented Generation. It combines retrieval and generation to improve factual accuracy by fetching relevant information from external sources (documents/databases) and using it as context for response generation. Typical components: document ingestion and chunking, embeddings stored in a vector DB (FAISS, Pinecone, Weaviate, ChromaDB), retrieval of relevant chunks, and passing those chunks to an LLM API (OpenAI, Gemini, etc.) for generation.'}}"
      ]
     },
     "execution_count": 11,
     "metadata": {},
     "output_type": "execute_result"
    }
   ],
   "source": [
    "result[\"messages\"]"
   ]
  },
  {
   "cell_type": "code",
   "execution_count": 12,
   "id": "579ce0ef",
   "metadata": {},
   "outputs": [
    {
     "data": {
      "text/plain": [
       "'RAG stands for Retrieval-Augmented Generation. It’s an approach that combines retrieval and generative language modeling to improve factual accuracy: the system fetches relevant information from external sources (for example, documents or databases) and uses that retrieved content as context when generating responses, producing more accurate and context-aware output. A typical RAG pipeline (as in the provided assignment) includes document ingestion and chunking, creating text embeddings and storing them in a vector database (e.g., FAISS, Pinecone, Weaviate, ChromaDB), retrieving relevant chunks for a user query, and passing those chunks to an LLM API (e.g., OpenAI, Gemini) to generate the final answer. RAG systems are typically exposed via REST APIs and can be containerized for deployment.'"
      ]
     },
     "execution_count": 12,
     "metadata": {},
     "output_type": "execute_result"
    }
   ],
   "source": [
    "result[\"generated_answer\"]"
   ]
  },
  {
   "cell_type": "code",
   "execution_count": 14,
   "id": "02aed6c0",
   "metadata": {},
   "outputs": [],
   "source": [
    "user_input_2 = \"how it is compared to llm?\"\n",
    "input_data_2 = {\n",
    "    \"question\": user_input_2\n",
    "}"
   ]
  },
  {
   "cell_type": "code",
   "execution_count": 15,
   "id": "076be488",
   "metadata": {},
   "outputs": [],
   "source": [
    "result = await graph.ainvoke(\n",
    "    input = input_data_2,\n",
    "    config = {\n",
    "        \"configurable\": {\n",
    "            \"retriever\": retriever,\n",
    "            \"thread_id\": 1\n",
    "        }\n",
    "    }\n",
    ")"
   ]
  },
  {
   "cell_type": "code",
   "execution_count": 16,
   "id": "e16d2cb2",
   "metadata": {},
   "outputs": [
    {
     "data": {
      "text/plain": [
       "{1: {'question': 'What does RAG stand for or refer to?',\n",
       "  'answer': 'RAG = Retrieval-Augmented Generation. It combines retrieval and generation to improve factual accuracy by fetching relevant information from external sources (documents/databases) and using it as context for response generation. Typical components: document ingestion and chunking, embeddings stored in a vector DB (FAISS, Pinecone, Weaviate, ChromaDB), retrieval of relevant chunks, and passing those chunks to an LLM API (OpenAI, Gemini, etc.) for generation.'},\n",
       " 2: {'question': 'How does Retrieval-Augmented Generation (RAG) compare to large language models (LLMs)?',\n",
       "  'answer': 'RAG augments LLMs by fetching relevant external information and feeding it to a generator (usually an LLM). Typical components: retriever, generator, and a vector DB (e.g., FAISS). RAG improves factual accuracy, makes responses more context-aware, and reduces hallucinations compared with using an LLM alone.'}}"
      ]
     },
     "execution_count": 16,
     "metadata": {},
     "output_type": "execute_result"
    }
   ],
   "source": [
    "result[\"messages\"]"
   ]
  },
  {
   "cell_type": "code",
   "execution_count": 17,
   "id": "760ace11",
   "metadata": {},
   "outputs": [
    {
     "data": {
      "text/plain": [
       "'Retrieval‑Augmented Generation (RAG) augments a language model by combining retrieval and generation to improve factual accuracy and context awareness. Instead of relying solely on the model’s internal knowledge, RAG fetches relevant information from external sources (documents or databases) and supplies those retrieved chunks to a generator (usually an LLM) to produce answers. A typical RAG system therefore has three parts: a retriever that searches and fetches relevant chunks, a generator (the LLM) that uses the retrieved data to form a response, and a vector database (e.g., FAISS) that stores embeddings for fast semantic search. Compared with using an LLM alone, RAG reduces hallucinations and enhances the reliability and factual accuracy of LLM-based systems by grounding generation in retrieved external content.'"
      ]
     },
     "execution_count": 17,
     "metadata": {},
     "output_type": "execute_result"
    }
   ],
   "source": [
    "result[\"generated_answer\"]"
   ]
  }
 ],
 "metadata": {
  "kernelspec": {
   "display_name": ".venv",
   "language": "python",
   "name": "python3"
  },
  "language_info": {
   "codemirror_mode": {
    "name": "ipython",
    "version": 3
   },
   "file_extension": ".py",
   "mimetype": "text/x-python",
   "name": "python",
   "nbconvert_exporter": "python",
   "pygments_lexer": "ipython3",
   "version": "3.11.8"
  }
 },
 "nbformat": 4,
 "nbformat_minor": 5
}
